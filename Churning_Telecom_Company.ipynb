{
 "cells": [
  {
   "cell_type": "markdown",
   "id": "eff9b337",
   "metadata": {},
   "source": [
    "# Churning Telecom Company Prediction with Python\n",
    "#### Author: <a href=\"https://tonmoy-talukder.netlify.app/\">Tonmoy Talukder</a>\n",
    "CS Undergrad, <a href=\"https://www.aust.edu/\"> AUST</a>, Dhaka 1208, Bangladesh"
   ]
  },
  {
   "cell_type": "markdown",
   "id": "0668e175",
   "metadata": {},
   "source": [
    "## Dataset Reference: \n",
    "<a href=\"https://learn.datacamp.com/courses/marketing-analytics-predicting-customer-churn-in-python\">Browse The Dataset</a>"
   ]
  },
  {
   "cell_type": "markdown",
   "id": "e8c94c28",
   "metadata": {},
   "source": [
    "**Objectives:**\n",
    "- One-hot Encoding\n",
    "- Decision Tree Classification\n",
    "- Data Transformation\n",
    "- Cross-Validation\n",
    "- Grid Search\n",
    "- Tree diagram of the Decision Tree\n",
    "- Confusion Matrix, Classification report, and ROC-AUC\n",
    "- Explaining accuracy, precision, recall, f1 score"
   ]
  },
  {
   "cell_type": "markdown",
   "id": "b69f12ed",
   "metadata": {},
   "source": [
    "#### Import required libraries"
   ]
  },
  {
   "cell_type": "code",
   "execution_count": 494,
   "id": "05289bdd",
   "metadata": {},
   "outputs": [],
   "source": [
    "import pandas as pd\n",
    "import numpy as np\n",
    "\n",
    "pd.options.display.max_columns = 100\n",
    "pd.options.display.max_rows = 100\n",
    "\n",
    "from sklearn.model_selection import train_test_split\n",
    "from sklearn.linear_model import LogisticRegression\n",
    "from sklearn.tree import DecisionTreeClassifier\n",
    "from sklearn.ensemble import RandomForestClassifier\n",
    "\n",
    "from sklearn.model_selection import GridSearchCV\n",
    "\n",
    "from sklearn.preprocessing import StandardScaler\n",
    "from sklearn.preprocessing import MinMaxScaler\n",
    "\n",
    "from sklearn.metrics import accuracy_score, classification_report, confusion_matrix\n",
    "from sklearn.metrics import roc_curve, roc_auc_score, precision_score, recall_score, f1_score\n",
    "from sklearn.metrics import plot_confusion_matrix\n",
    "\n",
    "import matplotlib.pyplot as plt\n",
    "import seaborn as sns\n",
    "\n",
    "\n",
    "\n",
    "\n",
    "\n",
    "# import pandas as pd\n",
    "# import numpy as np\n",
    "# from sklearn.model_selection import train_test_split\n",
    "\n",
    "# from sklearn.tree import DecisionTreeClassifier\n",
    "# from sklearn.tree import plot_tree\n",
    "# from sklearn.metrics import plot_confusion_matrix\n",
    "# from sklearn.model_selection import GridSearchCV\n",
    "\n",
    "# from sklearn.metrics import accuracy_score, classification_report, confusion_matrix\n",
    "# from sklearn.metrics import roc_curve, roc_auc_score, precision_score, recall_score, f1_score\n",
    "\n",
    "# import matplotlib.pyplot as plt\n",
    "# import seaborn as sns\n",
    "\n",
    "\n",
    "\n",
    "\n",
    "\n",
    "\n",
    "\n",
    "\n",
    "import warnings\n",
    "warnings.filterwarnings('ignore')"
   ]
  },
  {
   "cell_type": "markdown",
   "id": "fc40b954",
   "metadata": {},
   "source": [
    "#### Load Data\n",
    "Dataset Source: https://learn.datacamp.com/courses/marketing-analytics-predicting-customer-churn-in-python"
   ]
  },
  {
   "cell_type": "code",
   "execution_count": 495,
   "id": "dd389136",
   "metadata": {},
   "outputs": [
    {
     "data": {
      "text/html": [
       "<div>\n",
       "<style scoped>\n",
       "    .dataframe tbody tr th:only-of-type {\n",
       "        vertical-align: middle;\n",
       "    }\n",
       "\n",
       "    .dataframe tbody tr th {\n",
       "        vertical-align: top;\n",
       "    }\n",
       "\n",
       "    .dataframe thead th {\n",
       "        text-align: right;\n",
       "    }\n",
       "</style>\n",
       "<table border=\"1\" class=\"dataframe\">\n",
       "  <thead>\n",
       "    <tr style=\"text-align: right;\">\n",
       "      <th></th>\n",
       "      <th>Account_Length</th>\n",
       "      <th>Vmail_Message</th>\n",
       "      <th>Day_Mins</th>\n",
       "      <th>Eve_Mins</th>\n",
       "      <th>Night_Mins</th>\n",
       "      <th>Intl_Mins</th>\n",
       "      <th>CustServ_Calls</th>\n",
       "      <th>Churn</th>\n",
       "      <th>Intl_Plan</th>\n",
       "      <th>Vmail_Plan</th>\n",
       "      <th>Day_Calls</th>\n",
       "      <th>Day_Charge</th>\n",
       "      <th>Eve_Calls</th>\n",
       "      <th>Eve_Charge</th>\n",
       "      <th>Night_Calls</th>\n",
       "      <th>Night_Charge</th>\n",
       "      <th>Intl_Calls</th>\n",
       "      <th>Intl_Charge</th>\n",
       "      <th>State</th>\n",
       "      <th>Area_Code</th>\n",
       "      <th>Phone</th>\n",
       "    </tr>\n",
       "  </thead>\n",
       "  <tbody>\n",
       "    <tr>\n",
       "      <th>0</th>\n",
       "      <td>128</td>\n",
       "      <td>25</td>\n",
       "      <td>265.1</td>\n",
       "      <td>197.4</td>\n",
       "      <td>244.7</td>\n",
       "      <td>10.0</td>\n",
       "      <td>1</td>\n",
       "      <td>no</td>\n",
       "      <td>no</td>\n",
       "      <td>yes</td>\n",
       "      <td>110</td>\n",
       "      <td>45.07</td>\n",
       "      <td>99</td>\n",
       "      <td>16.78</td>\n",
       "      <td>91</td>\n",
       "      <td>11.01</td>\n",
       "      <td>3</td>\n",
       "      <td>2.70</td>\n",
       "      <td>KS</td>\n",
       "      <td>415</td>\n",
       "      <td>382-4657</td>\n",
       "    </tr>\n",
       "    <tr>\n",
       "      <th>1</th>\n",
       "      <td>107</td>\n",
       "      <td>26</td>\n",
       "      <td>161.6</td>\n",
       "      <td>195.5</td>\n",
       "      <td>254.4</td>\n",
       "      <td>13.7</td>\n",
       "      <td>1</td>\n",
       "      <td>no</td>\n",
       "      <td>no</td>\n",
       "      <td>yes</td>\n",
       "      <td>123</td>\n",
       "      <td>27.47</td>\n",
       "      <td>103</td>\n",
       "      <td>16.62</td>\n",
       "      <td>103</td>\n",
       "      <td>11.45</td>\n",
       "      <td>3</td>\n",
       "      <td>3.70</td>\n",
       "      <td>OH</td>\n",
       "      <td>415</td>\n",
       "      <td>371-7191</td>\n",
       "    </tr>\n",
       "    <tr>\n",
       "      <th>2</th>\n",
       "      <td>137</td>\n",
       "      <td>0</td>\n",
       "      <td>243.4</td>\n",
       "      <td>121.2</td>\n",
       "      <td>162.6</td>\n",
       "      <td>12.2</td>\n",
       "      <td>0</td>\n",
       "      <td>no</td>\n",
       "      <td>no</td>\n",
       "      <td>no</td>\n",
       "      <td>114</td>\n",
       "      <td>41.38</td>\n",
       "      <td>110</td>\n",
       "      <td>10.30</td>\n",
       "      <td>104</td>\n",
       "      <td>7.32</td>\n",
       "      <td>5</td>\n",
       "      <td>3.29</td>\n",
       "      <td>NJ</td>\n",
       "      <td>415</td>\n",
       "      <td>358-1921</td>\n",
       "    </tr>\n",
       "    <tr>\n",
       "      <th>3</th>\n",
       "      <td>84</td>\n",
       "      <td>0</td>\n",
       "      <td>299.4</td>\n",
       "      <td>61.9</td>\n",
       "      <td>196.9</td>\n",
       "      <td>6.6</td>\n",
       "      <td>2</td>\n",
       "      <td>no</td>\n",
       "      <td>yes</td>\n",
       "      <td>no</td>\n",
       "      <td>71</td>\n",
       "      <td>50.90</td>\n",
       "      <td>88</td>\n",
       "      <td>5.26</td>\n",
       "      <td>89</td>\n",
       "      <td>8.86</td>\n",
       "      <td>7</td>\n",
       "      <td>1.78</td>\n",
       "      <td>OH</td>\n",
       "      <td>408</td>\n",
       "      <td>375-9999</td>\n",
       "    </tr>\n",
       "    <tr>\n",
       "      <th>4</th>\n",
       "      <td>75</td>\n",
       "      <td>0</td>\n",
       "      <td>166.7</td>\n",
       "      <td>148.3</td>\n",
       "      <td>186.9</td>\n",
       "      <td>10.1</td>\n",
       "      <td>3</td>\n",
       "      <td>no</td>\n",
       "      <td>yes</td>\n",
       "      <td>no</td>\n",
       "      <td>113</td>\n",
       "      <td>28.34</td>\n",
       "      <td>122</td>\n",
       "      <td>12.61</td>\n",
       "      <td>121</td>\n",
       "      <td>8.41</td>\n",
       "      <td>3</td>\n",
       "      <td>2.73</td>\n",
       "      <td>OK</td>\n",
       "      <td>415</td>\n",
       "      <td>330-6626</td>\n",
       "    </tr>\n",
       "    <tr>\n",
       "      <th>5</th>\n",
       "      <td>118</td>\n",
       "      <td>0</td>\n",
       "      <td>223.4</td>\n",
       "      <td>220.6</td>\n",
       "      <td>203.9</td>\n",
       "      <td>6.3</td>\n",
       "      <td>0</td>\n",
       "      <td>no</td>\n",
       "      <td>yes</td>\n",
       "      <td>no</td>\n",
       "      <td>98</td>\n",
       "      <td>37.98</td>\n",
       "      <td>101</td>\n",
       "      <td>18.75</td>\n",
       "      <td>118</td>\n",
       "      <td>9.18</td>\n",
       "      <td>6</td>\n",
       "      <td>1.70</td>\n",
       "      <td>AL</td>\n",
       "      <td>510</td>\n",
       "      <td>391-8027</td>\n",
       "    </tr>\n",
       "    <tr>\n",
       "      <th>6</th>\n",
       "      <td>121</td>\n",
       "      <td>24</td>\n",
       "      <td>218.2</td>\n",
       "      <td>348.5</td>\n",
       "      <td>212.6</td>\n",
       "      <td>7.5</td>\n",
       "      <td>3</td>\n",
       "      <td>no</td>\n",
       "      <td>no</td>\n",
       "      <td>yes</td>\n",
       "      <td>88</td>\n",
       "      <td>37.09</td>\n",
       "      <td>108</td>\n",
       "      <td>29.62</td>\n",
       "      <td>118</td>\n",
       "      <td>9.57</td>\n",
       "      <td>7</td>\n",
       "      <td>2.03</td>\n",
       "      <td>MA</td>\n",
       "      <td>510</td>\n",
       "      <td>355-9993</td>\n",
       "    </tr>\n",
       "    <tr>\n",
       "      <th>7</th>\n",
       "      <td>147</td>\n",
       "      <td>0</td>\n",
       "      <td>157.0</td>\n",
       "      <td>103.1</td>\n",
       "      <td>211.8</td>\n",
       "      <td>7.1</td>\n",
       "      <td>0</td>\n",
       "      <td>no</td>\n",
       "      <td>yes</td>\n",
       "      <td>no</td>\n",
       "      <td>79</td>\n",
       "      <td>26.69</td>\n",
       "      <td>94</td>\n",
       "      <td>8.76</td>\n",
       "      <td>96</td>\n",
       "      <td>9.53</td>\n",
       "      <td>6</td>\n",
       "      <td>1.92</td>\n",
       "      <td>MO</td>\n",
       "      <td>415</td>\n",
       "      <td>329-9001</td>\n",
       "    </tr>\n",
       "    <tr>\n",
       "      <th>8</th>\n",
       "      <td>117</td>\n",
       "      <td>0</td>\n",
       "      <td>184.5</td>\n",
       "      <td>351.6</td>\n",
       "      <td>215.8</td>\n",
       "      <td>8.7</td>\n",
       "      <td>1</td>\n",
       "      <td>no</td>\n",
       "      <td>no</td>\n",
       "      <td>no</td>\n",
       "      <td>97</td>\n",
       "      <td>31.37</td>\n",
       "      <td>80</td>\n",
       "      <td>29.89</td>\n",
       "      <td>90</td>\n",
       "      <td>9.71</td>\n",
       "      <td>4</td>\n",
       "      <td>2.35</td>\n",
       "      <td>LA</td>\n",
       "      <td>408</td>\n",
       "      <td>335-4719</td>\n",
       "    </tr>\n",
       "    <tr>\n",
       "      <th>9</th>\n",
       "      <td>141</td>\n",
       "      <td>37</td>\n",
       "      <td>258.6</td>\n",
       "      <td>222.0</td>\n",
       "      <td>326.4</td>\n",
       "      <td>11.2</td>\n",
       "      <td>0</td>\n",
       "      <td>no</td>\n",
       "      <td>yes</td>\n",
       "      <td>yes</td>\n",
       "      <td>84</td>\n",
       "      <td>43.96</td>\n",
       "      <td>111</td>\n",
       "      <td>18.87</td>\n",
       "      <td>97</td>\n",
       "      <td>14.69</td>\n",
       "      <td>5</td>\n",
       "      <td>3.02</td>\n",
       "      <td>WV</td>\n",
       "      <td>415</td>\n",
       "      <td>330-8173</td>\n",
       "    </tr>\n",
       "  </tbody>\n",
       "</table>\n",
       "</div>"
      ],
      "text/plain": [
       "   Account_Length  Vmail_Message  Day_Mins  Eve_Mins  Night_Mins  Intl_Mins  \\\n",
       "0             128             25     265.1     197.4       244.7       10.0   \n",
       "1             107             26     161.6     195.5       254.4       13.7   \n",
       "2             137              0     243.4     121.2       162.6       12.2   \n",
       "3              84              0     299.4      61.9       196.9        6.6   \n",
       "4              75              0     166.7     148.3       186.9       10.1   \n",
       "5             118              0     223.4     220.6       203.9        6.3   \n",
       "6             121             24     218.2     348.5       212.6        7.5   \n",
       "7             147              0     157.0     103.1       211.8        7.1   \n",
       "8             117              0     184.5     351.6       215.8        8.7   \n",
       "9             141             37     258.6     222.0       326.4       11.2   \n",
       "\n",
       "   CustServ_Calls Churn Intl_Plan Vmail_Plan  Day_Calls  Day_Charge  \\\n",
       "0               1    no        no        yes        110       45.07   \n",
       "1               1    no        no        yes        123       27.47   \n",
       "2               0    no        no         no        114       41.38   \n",
       "3               2    no       yes         no         71       50.90   \n",
       "4               3    no       yes         no        113       28.34   \n",
       "5               0    no       yes         no         98       37.98   \n",
       "6               3    no        no        yes         88       37.09   \n",
       "7               0    no       yes         no         79       26.69   \n",
       "8               1    no        no         no         97       31.37   \n",
       "9               0    no       yes        yes         84       43.96   \n",
       "\n",
       "   Eve_Calls  Eve_Charge  Night_Calls  Night_Charge  Intl_Calls  Intl_Charge  \\\n",
       "0         99       16.78           91         11.01           3         2.70   \n",
       "1        103       16.62          103         11.45           3         3.70   \n",
       "2        110       10.30          104          7.32           5         3.29   \n",
       "3         88        5.26           89          8.86           7         1.78   \n",
       "4        122       12.61          121          8.41           3         2.73   \n",
       "5        101       18.75          118          9.18           6         1.70   \n",
       "6        108       29.62          118          9.57           7         2.03   \n",
       "7         94        8.76           96          9.53           6         1.92   \n",
       "8         80       29.89           90          9.71           4         2.35   \n",
       "9        111       18.87           97         14.69           5         3.02   \n",
       "\n",
       "  State  Area_Code     Phone  \n",
       "0    KS        415  382-4657  \n",
       "1    OH        415  371-7191  \n",
       "2    NJ        415  358-1921  \n",
       "3    OH        408  375-9999  \n",
       "4    OK        415  330-6626  \n",
       "5    AL        510  391-8027  \n",
       "6    MA        510  355-9993  \n",
       "7    MO        415  329-9001  \n",
       "8    LA        408  335-4719  \n",
       "9    WV        415  330-8173  "
      ]
     },
     "metadata": {},
     "output_type": "display_data"
    }
   ],
   "source": [
    "df = pd.read_csv(\"Churn.csv\")\n",
    "\n",
    "display(df.head(10))"
   ]
  },
  {
   "cell_type": "code",
   "execution_count": 496,
   "id": "1644ae30",
   "metadata": {},
   "outputs": [
    {
     "name": "stdout",
     "output_type": "stream",
     "text": [
      "(3333, 21)\n"
     ]
    }
   ],
   "source": [
    "print(df.shape)"
   ]
  },
  {
   "cell_type": "code",
   "execution_count": 497,
   "id": "aa212c14",
   "metadata": {},
   "outputs": [
    {
     "name": "stdout",
     "output_type": "stream",
     "text": [
      "<class 'pandas.core.frame.DataFrame'>\n",
      "RangeIndex: 3333 entries, 0 to 3332\n",
      "Data columns (total 21 columns):\n",
      " #   Column          Non-Null Count  Dtype  \n",
      "---  ------          --------------  -----  \n",
      " 0   Account_Length  3333 non-null   int64  \n",
      " 1   Vmail_Message   3333 non-null   int64  \n",
      " 2   Day_Mins        3333 non-null   float64\n",
      " 3   Eve_Mins        3333 non-null   float64\n",
      " 4   Night_Mins      3333 non-null   float64\n",
      " 5   Intl_Mins       3333 non-null   float64\n",
      " 6   CustServ_Calls  3333 non-null   int64  \n",
      " 7   Churn           3333 non-null   object \n",
      " 8   Intl_Plan       3333 non-null   object \n",
      " 9   Vmail_Plan      3333 non-null   object \n",
      " 10  Day_Calls       3333 non-null   int64  \n",
      " 11  Day_Charge      3333 non-null   float64\n",
      " 12  Eve_Calls       3333 non-null   int64  \n",
      " 13  Eve_Charge      3333 non-null   float64\n",
      " 14  Night_Calls     3333 non-null   int64  \n",
      " 15  Night_Charge    3333 non-null   float64\n",
      " 16  Intl_Calls      3333 non-null   int64  \n",
      " 17  Intl_Charge     3333 non-null   float64\n",
      " 18  State           3333 non-null   object \n",
      " 19  Area_Code       3333 non-null   int64  \n",
      " 20  Phone           3333 non-null   object \n",
      "dtypes: float64(8), int64(8), object(5)\n",
      "memory usage: 546.9+ KB\n"
     ]
    }
   ],
   "source": [
    "df.info()"
   ]
  },
  {
   "cell_type": "markdown",
   "id": "2d39e81d",
   "metadata": {},
   "source": [
    "#### Data preprocessing"
   ]
  },
  {
   "cell_type": "code",
   "execution_count": 498,
   "id": "a6841f7c",
   "metadata": {},
   "outputs": [
    {
     "name": "stdout",
     "output_type": "stream",
     "text": [
      "['no' 'yes']\n",
      "['no' 'yes']\n",
      "['yes' 'no']\n"
     ]
    }
   ],
   "source": [
    "print(df['Churn'].unique())\n",
    "print(df['Intl_Plan'].unique())\n",
    "print(df['Vmail_Plan'].unique())"
   ]
  },
  {
   "cell_type": "code",
   "execution_count": 499,
   "id": "e1105636",
   "metadata": {},
   "outputs": [
    {
     "data": {
      "text/html": [
       "<div>\n",
       "<style scoped>\n",
       "    .dataframe tbody tr th:only-of-type {\n",
       "        vertical-align: middle;\n",
       "    }\n",
       "\n",
       "    .dataframe tbody tr th {\n",
       "        vertical-align: top;\n",
       "    }\n",
       "\n",
       "    .dataframe thead th {\n",
       "        text-align: right;\n",
       "    }\n",
       "</style>\n",
       "<table border=\"1\" class=\"dataframe\">\n",
       "  <thead>\n",
       "    <tr style=\"text-align: right;\">\n",
       "      <th></th>\n",
       "      <th>Account_Length</th>\n",
       "      <th>Vmail_Message</th>\n",
       "      <th>Day_Mins</th>\n",
       "      <th>Eve_Mins</th>\n",
       "      <th>Night_Mins</th>\n",
       "      <th>Intl_Mins</th>\n",
       "      <th>CustServ_Calls</th>\n",
       "      <th>Churn</th>\n",
       "      <th>Intl_Plan</th>\n",
       "      <th>Vmail_Plan</th>\n",
       "      <th>Day_Calls</th>\n",
       "      <th>Day_Charge</th>\n",
       "      <th>Eve_Calls</th>\n",
       "      <th>Eve_Charge</th>\n",
       "      <th>Night_Calls</th>\n",
       "      <th>Night_Charge</th>\n",
       "      <th>Intl_Calls</th>\n",
       "      <th>Intl_Charge</th>\n",
       "    </tr>\n",
       "  </thead>\n",
       "  <tbody>\n",
       "    <tr>\n",
       "      <th>0</th>\n",
       "      <td>128</td>\n",
       "      <td>25</td>\n",
       "      <td>265.1</td>\n",
       "      <td>197.4</td>\n",
       "      <td>244.7</td>\n",
       "      <td>10.0</td>\n",
       "      <td>1</td>\n",
       "      <td>0</td>\n",
       "      <td>0</td>\n",
       "      <td>1</td>\n",
       "      <td>110</td>\n",
       "      <td>45.07</td>\n",
       "      <td>99</td>\n",
       "      <td>16.78</td>\n",
       "      <td>91</td>\n",
       "      <td>11.01</td>\n",
       "      <td>3</td>\n",
       "      <td>2.70</td>\n",
       "    </tr>\n",
       "    <tr>\n",
       "      <th>1</th>\n",
       "      <td>107</td>\n",
       "      <td>26</td>\n",
       "      <td>161.6</td>\n",
       "      <td>195.5</td>\n",
       "      <td>254.4</td>\n",
       "      <td>13.7</td>\n",
       "      <td>1</td>\n",
       "      <td>0</td>\n",
       "      <td>0</td>\n",
       "      <td>1</td>\n",
       "      <td>123</td>\n",
       "      <td>27.47</td>\n",
       "      <td>103</td>\n",
       "      <td>16.62</td>\n",
       "      <td>103</td>\n",
       "      <td>11.45</td>\n",
       "      <td>3</td>\n",
       "      <td>3.70</td>\n",
       "    </tr>\n",
       "    <tr>\n",
       "      <th>2</th>\n",
       "      <td>137</td>\n",
       "      <td>0</td>\n",
       "      <td>243.4</td>\n",
       "      <td>121.2</td>\n",
       "      <td>162.6</td>\n",
       "      <td>12.2</td>\n",
       "      <td>0</td>\n",
       "      <td>0</td>\n",
       "      <td>0</td>\n",
       "      <td>0</td>\n",
       "      <td>114</td>\n",
       "      <td>41.38</td>\n",
       "      <td>110</td>\n",
       "      <td>10.30</td>\n",
       "      <td>104</td>\n",
       "      <td>7.32</td>\n",
       "      <td>5</td>\n",
       "      <td>3.29</td>\n",
       "    </tr>\n",
       "    <tr>\n",
       "      <th>3</th>\n",
       "      <td>84</td>\n",
       "      <td>0</td>\n",
       "      <td>299.4</td>\n",
       "      <td>61.9</td>\n",
       "      <td>196.9</td>\n",
       "      <td>6.6</td>\n",
       "      <td>2</td>\n",
       "      <td>0</td>\n",
       "      <td>1</td>\n",
       "      <td>0</td>\n",
       "      <td>71</td>\n",
       "      <td>50.90</td>\n",
       "      <td>88</td>\n",
       "      <td>5.26</td>\n",
       "      <td>89</td>\n",
       "      <td>8.86</td>\n",
       "      <td>7</td>\n",
       "      <td>1.78</td>\n",
       "    </tr>\n",
       "    <tr>\n",
       "      <th>4</th>\n",
       "      <td>75</td>\n",
       "      <td>0</td>\n",
       "      <td>166.7</td>\n",
       "      <td>148.3</td>\n",
       "      <td>186.9</td>\n",
       "      <td>10.1</td>\n",
       "      <td>3</td>\n",
       "      <td>0</td>\n",
       "      <td>1</td>\n",
       "      <td>0</td>\n",
       "      <td>113</td>\n",
       "      <td>28.34</td>\n",
       "      <td>122</td>\n",
       "      <td>12.61</td>\n",
       "      <td>121</td>\n",
       "      <td>8.41</td>\n",
       "      <td>3</td>\n",
       "      <td>2.73</td>\n",
       "    </tr>\n",
       "    <tr>\n",
       "      <th>5</th>\n",
       "      <td>118</td>\n",
       "      <td>0</td>\n",
       "      <td>223.4</td>\n",
       "      <td>220.6</td>\n",
       "      <td>203.9</td>\n",
       "      <td>6.3</td>\n",
       "      <td>0</td>\n",
       "      <td>0</td>\n",
       "      <td>1</td>\n",
       "      <td>0</td>\n",
       "      <td>98</td>\n",
       "      <td>37.98</td>\n",
       "      <td>101</td>\n",
       "      <td>18.75</td>\n",
       "      <td>118</td>\n",
       "      <td>9.18</td>\n",
       "      <td>6</td>\n",
       "      <td>1.70</td>\n",
       "    </tr>\n",
       "    <tr>\n",
       "      <th>6</th>\n",
       "      <td>121</td>\n",
       "      <td>24</td>\n",
       "      <td>218.2</td>\n",
       "      <td>348.5</td>\n",
       "      <td>212.6</td>\n",
       "      <td>7.5</td>\n",
       "      <td>3</td>\n",
       "      <td>0</td>\n",
       "      <td>0</td>\n",
       "      <td>1</td>\n",
       "      <td>88</td>\n",
       "      <td>37.09</td>\n",
       "      <td>108</td>\n",
       "      <td>29.62</td>\n",
       "      <td>118</td>\n",
       "      <td>9.57</td>\n",
       "      <td>7</td>\n",
       "      <td>2.03</td>\n",
       "    </tr>\n",
       "    <tr>\n",
       "      <th>7</th>\n",
       "      <td>147</td>\n",
       "      <td>0</td>\n",
       "      <td>157.0</td>\n",
       "      <td>103.1</td>\n",
       "      <td>211.8</td>\n",
       "      <td>7.1</td>\n",
       "      <td>0</td>\n",
       "      <td>0</td>\n",
       "      <td>1</td>\n",
       "      <td>0</td>\n",
       "      <td>79</td>\n",
       "      <td>26.69</td>\n",
       "      <td>94</td>\n",
       "      <td>8.76</td>\n",
       "      <td>96</td>\n",
       "      <td>9.53</td>\n",
       "      <td>6</td>\n",
       "      <td>1.92</td>\n",
       "    </tr>\n",
       "    <tr>\n",
       "      <th>8</th>\n",
       "      <td>117</td>\n",
       "      <td>0</td>\n",
       "      <td>184.5</td>\n",
       "      <td>351.6</td>\n",
       "      <td>215.8</td>\n",
       "      <td>8.7</td>\n",
       "      <td>1</td>\n",
       "      <td>0</td>\n",
       "      <td>0</td>\n",
       "      <td>0</td>\n",
       "      <td>97</td>\n",
       "      <td>31.37</td>\n",
       "      <td>80</td>\n",
       "      <td>29.89</td>\n",
       "      <td>90</td>\n",
       "      <td>9.71</td>\n",
       "      <td>4</td>\n",
       "      <td>2.35</td>\n",
       "    </tr>\n",
       "    <tr>\n",
       "      <th>9</th>\n",
       "      <td>141</td>\n",
       "      <td>37</td>\n",
       "      <td>258.6</td>\n",
       "      <td>222.0</td>\n",
       "      <td>326.4</td>\n",
       "      <td>11.2</td>\n",
       "      <td>0</td>\n",
       "      <td>0</td>\n",
       "      <td>1</td>\n",
       "      <td>1</td>\n",
       "      <td>84</td>\n",
       "      <td>43.96</td>\n",
       "      <td>111</td>\n",
       "      <td>18.87</td>\n",
       "      <td>97</td>\n",
       "      <td>14.69</td>\n",
       "      <td>5</td>\n",
       "      <td>3.02</td>\n",
       "    </tr>\n",
       "  </tbody>\n",
       "</table>\n",
       "</div>"
      ],
      "text/plain": [
       "   Account_Length  Vmail_Message  Day_Mins  Eve_Mins  Night_Mins  Intl_Mins  \\\n",
       "0             128             25     265.1     197.4       244.7       10.0   \n",
       "1             107             26     161.6     195.5       254.4       13.7   \n",
       "2             137              0     243.4     121.2       162.6       12.2   \n",
       "3              84              0     299.4      61.9       196.9        6.6   \n",
       "4              75              0     166.7     148.3       186.9       10.1   \n",
       "5             118              0     223.4     220.6       203.9        6.3   \n",
       "6             121             24     218.2     348.5       212.6        7.5   \n",
       "7             147              0     157.0     103.1       211.8        7.1   \n",
       "8             117              0     184.5     351.6       215.8        8.7   \n",
       "9             141             37     258.6     222.0       326.4       11.2   \n",
       "\n",
       "   CustServ_Calls  Churn  Intl_Plan  Vmail_Plan  Day_Calls  Day_Charge  \\\n",
       "0               1      0          0           1        110       45.07   \n",
       "1               1      0          0           1        123       27.47   \n",
       "2               0      0          0           0        114       41.38   \n",
       "3               2      0          1           0         71       50.90   \n",
       "4               3      0          1           0        113       28.34   \n",
       "5               0      0          1           0         98       37.98   \n",
       "6               3      0          0           1         88       37.09   \n",
       "7               0      0          1           0         79       26.69   \n",
       "8               1      0          0           0         97       31.37   \n",
       "9               0      0          1           1         84       43.96   \n",
       "\n",
       "   Eve_Calls  Eve_Charge  Night_Calls  Night_Charge  Intl_Calls  Intl_Charge  \n",
       "0         99       16.78           91         11.01           3         2.70  \n",
       "1        103       16.62          103         11.45           3         3.70  \n",
       "2        110       10.30          104          7.32           5         3.29  \n",
       "3         88        5.26           89          8.86           7         1.78  \n",
       "4        122       12.61          121          8.41           3         2.73  \n",
       "5        101       18.75          118          9.18           6         1.70  \n",
       "6        108       29.62          118          9.57           7         2.03  \n",
       "7         94        8.76           96          9.53           6         1.92  \n",
       "8         80       29.89           90          9.71           4         2.35  \n",
       "9        111       18.87           97         14.69           5         3.02  "
      ]
     },
     "metadata": {},
     "output_type": "display_data"
    },
    {
     "name": "stdout",
     "output_type": "stream",
     "text": [
      "(3333, 18)\n"
     ]
    }
   ],
   "source": [
    "df = df.drop(['State', 'Area_Code', 'Phone'], axis=1)\n",
    "\n",
    "df['Churn'] = df['Churn'].replace(({'no':0, 'yes':1}))\n",
    "df['Intl_Plan'] = df['Intl_Plan'].replace(({'no':0, 'yes':1}))\n",
    "df['Vmail_Plan'] = df['Vmail_Plan'].replace(({'no':0, 'yes':1}))\n",
    "\n",
    "display(df.head(10))\n",
    "print(df.shape)"
   ]
  },
  {
   "cell_type": "code",
   "execution_count": 500,
   "id": "bb5f2254",
   "metadata": {},
   "outputs": [
    {
     "name": "stdout",
     "output_type": "stream",
     "text": [
      "<class 'pandas.core.frame.DataFrame'>\n",
      "RangeIndex: 3333 entries, 0 to 3332\n",
      "Data columns (total 18 columns):\n",
      " #   Column          Non-Null Count  Dtype  \n",
      "---  ------          --------------  -----  \n",
      " 0   Account_Length  3333 non-null   int64  \n",
      " 1   Vmail_Message   3333 non-null   int64  \n",
      " 2   Day_Mins        3333 non-null   float64\n",
      " 3   Eve_Mins        3333 non-null   float64\n",
      " 4   Night_Mins      3333 non-null   float64\n",
      " 5   Intl_Mins       3333 non-null   float64\n",
      " 6   CustServ_Calls  3333 non-null   int64  \n",
      " 7   Churn           3333 non-null   int64  \n",
      " 8   Intl_Plan       3333 non-null   int64  \n",
      " 9   Vmail_Plan      3333 non-null   int64  \n",
      " 10  Day_Calls       3333 non-null   int64  \n",
      " 11  Day_Charge      3333 non-null   float64\n",
      " 12  Eve_Calls       3333 non-null   int64  \n",
      " 13  Eve_Charge      3333 non-null   float64\n",
      " 14  Night_Calls     3333 non-null   int64  \n",
      " 15  Night_Charge    3333 non-null   float64\n",
      " 16  Intl_Calls      3333 non-null   int64  \n",
      " 17  Intl_Charge     3333 non-null   float64\n",
      "dtypes: float64(8), int64(10)\n",
      "memory usage: 468.8 KB\n"
     ]
    }
   ],
   "source": [
    "df.info()"
   ]
  },
  {
   "cell_type": "markdown",
   "id": "0f1a0c9b",
   "metadata": {},
   "source": [
    "### Checking missing value"
   ]
  },
  {
   "cell_type": "code",
   "execution_count": 501,
   "id": "ae6792b8",
   "metadata": {},
   "outputs": [
    {
     "data": {
      "text/plain": [
       "Account_Length    0\n",
       "Vmail_Message     0\n",
       "Day_Mins          0\n",
       "Eve_Mins          0\n",
       "Night_Mins        0\n",
       "Intl_Mins         0\n",
       "CustServ_Calls    0\n",
       "Churn             0\n",
       "Intl_Plan         0\n",
       "Vmail_Plan        0\n",
       "Day_Calls         0\n",
       "Day_Charge        0\n",
       "Eve_Calls         0\n",
       "Eve_Charge        0\n",
       "Night_Calls       0\n",
       "Night_Charge      0\n",
       "Intl_Calls        0\n",
       "Intl_Charge       0\n",
       "dtype: int64"
      ]
     },
     "execution_count": 501,
     "metadata": {},
     "output_type": "execute_result"
    }
   ],
   "source": [
    "#check missing value \n",
    "df.isnull().sum()"
   ]
  },
  {
   "cell_type": "markdown",
   "id": "1ad22875",
   "metadata": {},
   "source": [
    "> **There are no missing value in this dataset.**"
   ]
  },
  {
   "cell_type": "markdown",
   "id": "d0ca75b1",
   "metadata": {},
   "source": [
    "#### Target variable"
   ]
  },
  {
   "cell_type": "code",
   "execution_count": 502,
   "id": "f5775cd7",
   "metadata": {},
   "outputs": [
    {
     "data": {
      "text/plain": [
       "0    2850\n",
       "1     483\n",
       "Name: Churn, dtype: int64"
      ]
     },
     "execution_count": 502,
     "metadata": {},
     "output_type": "execute_result"
    }
   ],
   "source": [
    "df['Churn'].value_counts()"
   ]
  },
  {
   "cell_type": "markdown",
   "id": "03a71605",
   "metadata": {},
   "source": [
    "#### Feature and target variable separation"
   ]
  },
  {
   "cell_type": "code",
   "execution_count": 503,
   "id": "605bf9b4",
   "metadata": {},
   "outputs": [
    {
     "name": "stdout",
     "output_type": "stream",
     "text": [
      "Features: (3333, 17)\n",
      "Targets: (3333, 1)\n"
     ]
    }
   ],
   "source": [
    "X = df.drop('Churn', axis=1)\n",
    "y = df[['Churn']]\n",
    "\n",
    "print(\"Features:\" ,X.shape)\n",
    "print(\"Targets:\" ,y.shape)"
   ]
  },
  {
   "cell_type": "markdown",
   "id": "1976855f",
   "metadata": {},
   "source": [
    "### One-hot Encoding or Label Encoding"
   ]
  },
  {
   "cell_type": "markdown",
   "id": "7e8da0b4",
   "metadata": {},
   "source": [
    ">> **We apply One-Hot Encoding when:**\n",
    ">> - The categorical feature is not ordinal (like the countries above)\n",
    ">> - The number of categorical features is less so one-hot encoding can be effectively applied\n",
    "\n",
    ">> In this dataset, there are three categorical features are *NAN* columns. So, they are not ordinal and also in number there are less number of categorical variables. \n",
    "\n",
    ">> In addition, each label is assigned a unique integer based on alphabetical ordering in Label Encoding technique. And prediction performance is not also better than One-hot encoding for this data set.\n",
    "\n",
    "> **That's I am choosing One-hot encoding**"
   ]
  },
  {
   "cell_type": "markdown",
   "id": "2720afac",
   "metadata": {},
   "source": [
    "#### One-hot Encoding"
   ]
  },
  {
   "cell_type": "code",
   "execution_count": 504,
   "id": "de7cd90e",
   "metadata": {},
   "outputs": [],
   "source": [
    "df = pd.get_dummies(df, drop_first=True)"
   ]
  },
  {
   "cell_type": "markdown",
   "id": "9b61bacd",
   "metadata": {},
   "source": [
    "#### Train test separation"
   ]
  },
  {
   "cell_type": "code",
   "execution_count": 505,
   "id": "764975b3",
   "metadata": {},
   "outputs": [
    {
     "name": "stdout",
     "output_type": "stream",
     "text": [
      "(2666, 17) (667, 17) (2666, 1) (667, 1)\n"
     ]
    }
   ],
   "source": [
    "X_train, X_test, y_train, y_test = train_test_split(X, \n",
    "                                                    y, \n",
    "                                                    test_size=0.2, \n",
    "                                                    random_state=42, stratify=y)\n",
    "\n",
    "print(X_train.shape, X_test.shape, y_train.shape, y_test.shape)"
   ]
  },
  {
   "cell_type": "markdown",
   "id": "53b51c48",
   "metadata": {},
   "source": [
    "#### Stratification"
   ]
  },
  {
   "cell_type": "code",
   "execution_count": 506,
   "id": "8f0ba8a7",
   "metadata": {},
   "outputs": [
    {
     "name": "stdout",
     "output_type": "stream",
     "text": [
      "0.1692982456140351\n"
     ]
    }
   ],
   "source": [
    "class_0_train = y_train['Churn'].value_counts().values[0]\n",
    "class_1_train = y_train['Churn'].value_counts().values[1]\n",
    "\n",
    "train_ratio = class_1_train/class_0_train\n",
    "print(train_ratio)"
   ]
  },
  {
   "cell_type": "code",
   "execution_count": 507,
   "id": "80d5183f",
   "metadata": {},
   "outputs": [
    {
     "name": "stdout",
     "output_type": "stream",
     "text": [
      "0.17017543859649123\n"
     ]
    }
   ],
   "source": [
    "class_0_test = y_test['Churn'].value_counts().values[0]\n",
    "class_1_test = y_test['Churn'].value_counts().values[1]\n",
    "\n",
    "test_ratio = class_1_test/class_0_test\n",
    "print(test_ratio)"
   ]
  },
  {
   "cell_type": "markdown",
   "id": "f3e5bb9f",
   "metadata": {},
   "source": [
    "### Training: Decision Tree Classifier"
   ]
  },
  {
   "cell_type": "code",
   "execution_count": 508,
   "id": "9fb3e6dd",
   "metadata": {},
   "outputs": [],
   "source": [
    "model = DecisionTreeClassifier()\n",
    "model = model.fit(X_train, y_train)"
   ]
  },
  {
   "cell_type": "markdown",
   "id": "5b10d137",
   "metadata": {},
   "source": [
    "#### Prediction"
   ]
  },
  {
   "cell_type": "code",
   "execution_count": 509,
   "id": "b1c91c3c",
   "metadata": {},
   "outputs": [],
   "source": [
    "y_pred = model.predict(X_test)"
   ]
  },
  {
   "cell_type": "markdown",
   "id": "b65144b4",
   "metadata": {},
   "source": [
    "#### Prediction Comparison with the test data"
   ]
  },
  {
   "cell_type": "code",
   "execution_count": 510,
   "id": "2492ce9c",
   "metadata": {},
   "outputs": [
    {
     "data": {
      "text/html": [
       "<div>\n",
       "<style scoped>\n",
       "    .dataframe tbody tr th:only-of-type {\n",
       "        vertical-align: middle;\n",
       "    }\n",
       "\n",
       "    .dataframe tbody tr th {\n",
       "        vertical-align: top;\n",
       "    }\n",
       "\n",
       "    .dataframe thead th {\n",
       "        text-align: right;\n",
       "    }\n",
       "</style>\n",
       "<table border=\"1\" class=\"dataframe\">\n",
       "  <thead>\n",
       "    <tr style=\"text-align: right;\">\n",
       "      <th></th>\n",
       "      <th>Churn</th>\n",
       "      <th>probability</th>\n",
       "      <th>predicted_Churn</th>\n",
       "    </tr>\n",
       "  </thead>\n",
       "  <tbody>\n",
       "    <tr>\n",
       "      <th>1219</th>\n",
       "      <td>0</td>\n",
       "      <td>0.0</td>\n",
       "      <td>0</td>\n",
       "    </tr>\n",
       "    <tr>\n",
       "      <th>2058</th>\n",
       "      <td>0</td>\n",
       "      <td>0.0</td>\n",
       "      <td>0</td>\n",
       "    </tr>\n",
       "    <tr>\n",
       "      <th>3312</th>\n",
       "      <td>0</td>\n",
       "      <td>0.0</td>\n",
       "      <td>0</td>\n",
       "    </tr>\n",
       "    <tr>\n",
       "      <th>581</th>\n",
       "      <td>0</td>\n",
       "      <td>0.0</td>\n",
       "      <td>0</td>\n",
       "    </tr>\n",
       "    <tr>\n",
       "      <th>1132</th>\n",
       "      <td>0</td>\n",
       "      <td>0.0</td>\n",
       "      <td>0</td>\n",
       "    </tr>\n",
       "    <tr>\n",
       "      <th>976</th>\n",
       "      <td>0</td>\n",
       "      <td>0.0</td>\n",
       "      <td>0</td>\n",
       "    </tr>\n",
       "    <tr>\n",
       "      <th>2743</th>\n",
       "      <td>0</td>\n",
       "      <td>0.0</td>\n",
       "      <td>0</td>\n",
       "    </tr>\n",
       "    <tr>\n",
       "      <th>2358</th>\n",
       "      <td>0</td>\n",
       "      <td>0.0</td>\n",
       "      <td>0</td>\n",
       "    </tr>\n",
       "    <tr>\n",
       "      <th>1215</th>\n",
       "      <td>0</td>\n",
       "      <td>0.0</td>\n",
       "      <td>0</td>\n",
       "    </tr>\n",
       "    <tr>\n",
       "      <th>1317</th>\n",
       "      <td>0</td>\n",
       "      <td>0.0</td>\n",
       "      <td>0</td>\n",
       "    </tr>\n",
       "  </tbody>\n",
       "</table>\n",
       "</div>"
      ],
      "text/plain": [
       "      Churn  probability  predicted_Churn\n",
       "1219      0          0.0                0\n",
       "2058      0          0.0                0\n",
       "3312      0          0.0                0\n",
       "581       0          0.0                0\n",
       "1132      0          0.0                0\n",
       "976       0          0.0                0\n",
       "2743      0          0.0                0\n",
       "2358      0          0.0                0\n",
       "1215      0          0.0                0\n",
       "1317      0          0.0                0"
      ]
     },
     "metadata": {},
     "output_type": "display_data"
    }
   ],
   "source": [
    "y_test['probability'] = np.round(model.predict_proba(X_test)[:,1], 2)\n",
    "y_test['predicted_Churn'] = y_pred\n",
    "\n",
    "display(y_test.sample(10))"
   ]
  },
  {
   "cell_type": "code",
   "execution_count": 511,
   "id": "373d9e9e",
   "metadata": {},
   "outputs": [
    {
     "data": {
      "text/html": [
       "<div>\n",
       "<style scoped>\n",
       "    .dataframe tbody tr th:only-of-type {\n",
       "        vertical-align: middle;\n",
       "    }\n",
       "\n",
       "    .dataframe tbody tr th {\n",
       "        vertical-align: top;\n",
       "    }\n",
       "\n",
       "    .dataframe thead th {\n",
       "        text-align: right;\n",
       "    }\n",
       "</style>\n",
       "<table border=\"1\" class=\"dataframe\">\n",
       "  <thead>\n",
       "    <tr style=\"text-align: right;\">\n",
       "      <th></th>\n",
       "      <th>Account_Length</th>\n",
       "      <th>Vmail_Message</th>\n",
       "      <th>Day_Mins</th>\n",
       "      <th>Eve_Mins</th>\n",
       "      <th>Night_Mins</th>\n",
       "      <th>Intl_Mins</th>\n",
       "      <th>CustServ_Calls</th>\n",
       "      <th>Intl_Plan</th>\n",
       "      <th>Vmail_Plan</th>\n",
       "      <th>Day_Calls</th>\n",
       "      <th>Day_Charge</th>\n",
       "      <th>Eve_Calls</th>\n",
       "      <th>Eve_Charge</th>\n",
       "      <th>Night_Calls</th>\n",
       "      <th>Night_Charge</th>\n",
       "      <th>Intl_Calls</th>\n",
       "      <th>Intl_Charge</th>\n",
       "      <th>Churn</th>\n",
       "      <th>probability</th>\n",
       "      <th>predicted_Churn</th>\n",
       "    </tr>\n",
       "  </thead>\n",
       "  <tbody>\n",
       "    <tr>\n",
       "      <th>2861</th>\n",
       "      <td>75</td>\n",
       "      <td>19</td>\n",
       "      <td>210.3</td>\n",
       "      <td>241.8</td>\n",
       "      <td>215.7</td>\n",
       "      <td>13.1</td>\n",
       "      <td>4</td>\n",
       "      <td>0</td>\n",
       "      <td>1</td>\n",
       "      <td>90</td>\n",
       "      <td>35.75</td>\n",
       "      <td>87</td>\n",
       "      <td>20.55</td>\n",
       "      <td>102</td>\n",
       "      <td>9.71</td>\n",
       "      <td>3</td>\n",
       "      <td>3.54</td>\n",
       "      <td>0</td>\n",
       "      <td>0.0</td>\n",
       "      <td>0</td>\n",
       "    </tr>\n",
       "    <tr>\n",
       "      <th>3131</th>\n",
       "      <td>107</td>\n",
       "      <td>0</td>\n",
       "      <td>189.7</td>\n",
       "      <td>156.1</td>\n",
       "      <td>244.0</td>\n",
       "      <td>8.3</td>\n",
       "      <td>5</td>\n",
       "      <td>0</td>\n",
       "      <td>0</td>\n",
       "      <td>76</td>\n",
       "      <td>32.25</td>\n",
       "      <td>65</td>\n",
       "      <td>13.27</td>\n",
       "      <td>91</td>\n",
       "      <td>10.98</td>\n",
       "      <td>3</td>\n",
       "      <td>2.24</td>\n",
       "      <td>0</td>\n",
       "      <td>0.0</td>\n",
       "      <td>0</td>\n",
       "    </tr>\n",
       "    <tr>\n",
       "      <th>84</th>\n",
       "      <td>106</td>\n",
       "      <td>0</td>\n",
       "      <td>210.6</td>\n",
       "      <td>249.2</td>\n",
       "      <td>191.4</td>\n",
       "      <td>12.4</td>\n",
       "      <td>2</td>\n",
       "      <td>0</td>\n",
       "      <td>0</td>\n",
       "      <td>96</td>\n",
       "      <td>35.80</td>\n",
       "      <td>85</td>\n",
       "      <td>21.18</td>\n",
       "      <td>88</td>\n",
       "      <td>8.61</td>\n",
       "      <td>1</td>\n",
       "      <td>3.35</td>\n",
       "      <td>1</td>\n",
       "      <td>0.0</td>\n",
       "      <td>0</td>\n",
       "    </tr>\n",
       "    <tr>\n",
       "      <th>2743</th>\n",
       "      <td>90</td>\n",
       "      <td>0</td>\n",
       "      <td>198.5</td>\n",
       "      <td>266.6</td>\n",
       "      <td>243.3</td>\n",
       "      <td>8.0</td>\n",
       "      <td>2</td>\n",
       "      <td>0</td>\n",
       "      <td>0</td>\n",
       "      <td>124</td>\n",
       "      <td>33.75</td>\n",
       "      <td>100</td>\n",
       "      <td>22.66</td>\n",
       "      <td>80</td>\n",
       "      <td>10.95</td>\n",
       "      <td>7</td>\n",
       "      <td>2.16</td>\n",
       "      <td>0</td>\n",
       "      <td>0.0</td>\n",
       "      <td>0</td>\n",
       "    </tr>\n",
       "    <tr>\n",
       "      <th>3239</th>\n",
       "      <td>87</td>\n",
       "      <td>33</td>\n",
       "      <td>125.0</td>\n",
       "      <td>235.3</td>\n",
       "      <td>215.3</td>\n",
       "      <td>10.2</td>\n",
       "      <td>2</td>\n",
       "      <td>0</td>\n",
       "      <td>1</td>\n",
       "      <td>99</td>\n",
       "      <td>21.25</td>\n",
       "      <td>81</td>\n",
       "      <td>20.00</td>\n",
       "      <td>95</td>\n",
       "      <td>9.69</td>\n",
       "      <td>7</td>\n",
       "      <td>2.75</td>\n",
       "      <td>0</td>\n",
       "      <td>0.0</td>\n",
       "      <td>0</td>\n",
       "    </tr>\n",
       "    <tr>\n",
       "      <th>2929</th>\n",
       "      <td>71</td>\n",
       "      <td>0</td>\n",
       "      <td>185.0</td>\n",
       "      <td>232.5</td>\n",
       "      <td>191.1</td>\n",
       "      <td>14.9</td>\n",
       "      <td>3</td>\n",
       "      <td>0</td>\n",
       "      <td>0</td>\n",
       "      <td>84</td>\n",
       "      <td>31.45</td>\n",
       "      <td>129</td>\n",
       "      <td>19.76</td>\n",
       "      <td>82</td>\n",
       "      <td>8.60</td>\n",
       "      <td>4</td>\n",
       "      <td>4.02</td>\n",
       "      <td>0</td>\n",
       "      <td>0.0</td>\n",
       "      <td>0</td>\n",
       "    </tr>\n",
       "    <tr>\n",
       "      <th>567</th>\n",
       "      <td>85</td>\n",
       "      <td>0</td>\n",
       "      <td>216.0</td>\n",
       "      <td>188.2</td>\n",
       "      <td>147.1</td>\n",
       "      <td>3.6</td>\n",
       "      <td>2</td>\n",
       "      <td>1</td>\n",
       "      <td>0</td>\n",
       "      <td>73</td>\n",
       "      <td>36.72</td>\n",
       "      <td>117</td>\n",
       "      <td>16.00</td>\n",
       "      <td>98</td>\n",
       "      <td>6.62</td>\n",
       "      <td>7</td>\n",
       "      <td>0.97</td>\n",
       "      <td>0</td>\n",
       "      <td>0.0</td>\n",
       "      <td>0</td>\n",
       "    </tr>\n",
       "    <tr>\n",
       "      <th>244</th>\n",
       "      <td>108</td>\n",
       "      <td>0</td>\n",
       "      <td>198.5</td>\n",
       "      <td>267.8</td>\n",
       "      <td>354.9</td>\n",
       "      <td>9.4</td>\n",
       "      <td>0</td>\n",
       "      <td>0</td>\n",
       "      <td>0</td>\n",
       "      <td>99</td>\n",
       "      <td>33.75</td>\n",
       "      <td>60</td>\n",
       "      <td>22.76</td>\n",
       "      <td>75</td>\n",
       "      <td>15.97</td>\n",
       "      <td>3</td>\n",
       "      <td>2.54</td>\n",
       "      <td>1</td>\n",
       "      <td>0.0</td>\n",
       "      <td>0</td>\n",
       "    </tr>\n",
       "    <tr>\n",
       "      <th>1806</th>\n",
       "      <td>107</td>\n",
       "      <td>0</td>\n",
       "      <td>241.9</td>\n",
       "      <td>126.9</td>\n",
       "      <td>185.6</td>\n",
       "      <td>11.7</td>\n",
       "      <td>0</td>\n",
       "      <td>0</td>\n",
       "      <td>0</td>\n",
       "      <td>102</td>\n",
       "      <td>41.12</td>\n",
       "      <td>117</td>\n",
       "      <td>10.79</td>\n",
       "      <td>92</td>\n",
       "      <td>8.35</td>\n",
       "      <td>6</td>\n",
       "      <td>3.16</td>\n",
       "      <td>0</td>\n",
       "      <td>0.0</td>\n",
       "      <td>0</td>\n",
       "    </tr>\n",
       "    <tr>\n",
       "      <th>1815</th>\n",
       "      <td>101</td>\n",
       "      <td>42</td>\n",
       "      <td>209.2</td>\n",
       "      <td>159.7</td>\n",
       "      <td>181.6</td>\n",
       "      <td>9.5</td>\n",
       "      <td>0</td>\n",
       "      <td>0</td>\n",
       "      <td>1</td>\n",
       "      <td>82</td>\n",
       "      <td>35.56</td>\n",
       "      <td>74</td>\n",
       "      <td>13.57</td>\n",
       "      <td>100</td>\n",
       "      <td>8.17</td>\n",
       "      <td>3</td>\n",
       "      <td>2.57</td>\n",
       "      <td>0</td>\n",
       "      <td>0.0</td>\n",
       "      <td>0</td>\n",
       "    </tr>\n",
       "  </tbody>\n",
       "</table>\n",
       "</div>"
      ],
      "text/plain": [
       "      Account_Length  Vmail_Message  Day_Mins  Eve_Mins  Night_Mins  \\\n",
       "2861              75             19     210.3     241.8       215.7   \n",
       "3131             107              0     189.7     156.1       244.0   \n",
       "84               106              0     210.6     249.2       191.4   \n",
       "2743              90              0     198.5     266.6       243.3   \n",
       "3239              87             33     125.0     235.3       215.3   \n",
       "2929              71              0     185.0     232.5       191.1   \n",
       "567               85              0     216.0     188.2       147.1   \n",
       "244              108              0     198.5     267.8       354.9   \n",
       "1806             107              0     241.9     126.9       185.6   \n",
       "1815             101             42     209.2     159.7       181.6   \n",
       "\n",
       "      Intl_Mins  CustServ_Calls  Intl_Plan  Vmail_Plan  Day_Calls  Day_Charge  \\\n",
       "2861       13.1               4          0           1         90       35.75   \n",
       "3131        8.3               5          0           0         76       32.25   \n",
       "84         12.4               2          0           0         96       35.80   \n",
       "2743        8.0               2          0           0        124       33.75   \n",
       "3239       10.2               2          0           1         99       21.25   \n",
       "2929       14.9               3          0           0         84       31.45   \n",
       "567         3.6               2          1           0         73       36.72   \n",
       "244         9.4               0          0           0         99       33.75   \n",
       "1806       11.7               0          0           0        102       41.12   \n",
       "1815        9.5               0          0           1         82       35.56   \n",
       "\n",
       "      Eve_Calls  Eve_Charge  Night_Calls  Night_Charge  Intl_Calls  \\\n",
       "2861         87       20.55          102          9.71           3   \n",
       "3131         65       13.27           91         10.98           3   \n",
       "84           85       21.18           88          8.61           1   \n",
       "2743        100       22.66           80         10.95           7   \n",
       "3239         81       20.00           95          9.69           7   \n",
       "2929        129       19.76           82          8.60           4   \n",
       "567         117       16.00           98          6.62           7   \n",
       "244          60       22.76           75         15.97           3   \n",
       "1806        117       10.79           92          8.35           6   \n",
       "1815         74       13.57          100          8.17           3   \n",
       "\n",
       "      Intl_Charge  Churn  probability  predicted_Churn  \n",
       "2861         3.54      0          0.0                0  \n",
       "3131         2.24      0          0.0                0  \n",
       "84           3.35      1          0.0                0  \n",
       "2743         2.16      0          0.0                0  \n",
       "3239         2.75      0          0.0                0  \n",
       "2929         4.02      0          0.0                0  \n",
       "567          0.97      0          0.0                0  \n",
       "244          2.54      1          0.0                0  \n",
       "1806         3.16      0          0.0                0  \n",
       "1815         2.57      0          0.0                0  "
      ]
     },
     "metadata": {},
     "output_type": "display_data"
    }
   ],
   "source": [
    "test = pd.concat([X_test, y_test], axis=1)\n",
    "display(test.sample(10))"
   ]
  },
  {
   "cell_type": "markdown",
   "id": "41936157",
   "metadata": {},
   "source": [
    "### Data Transformation (StandardScaler or MinMaxScaler)"
   ]
  },
  {
   "cell_type": "code",
   "execution_count": 512,
   "id": "2adc9986",
   "metadata": {},
   "outputs": [],
   "source": [
    "# scaler = StandardScaler() # For StandardScaler\n",
    "# scaler = MinMaxScaler() # For MinMaxScaler\n",
    "\n",
    "# print(scaler.fit(test))"
   ]
  },
  {
   "cell_type": "code",
   "execution_count": 513,
   "id": "777778fc",
   "metadata": {},
   "outputs": [],
   "source": [
    "# print(scaler.mean_) # For StandardScaler\n",
    "# print(scaler.data_max_) # For MinMaxScaler"
   ]
  },
  {
   "cell_type": "code",
   "execution_count": 514,
   "id": "c1f64290",
   "metadata": {},
   "outputs": [],
   "source": [
    "# print(scaler.transform(test.head(10)))"
   ]
  },
  {
   "cell_type": "markdown",
   "id": "d1deafce",
   "metadata": {},
   "source": [
    "#### Does Data Transformation improve model performance?"
   ]
  },
  {
   "cell_type": "markdown",
   "id": "2b2cf79d",
   "metadata": {},
   "source": [
    "> No, Data transmission does not improve model performance actually. From this model, I am getting betetr precision with Standard Scaler or Min Max Scaler transformation. "
   ]
  },
  {
   "cell_type": "markdown",
   "id": "5b2ce59e",
   "metadata": {},
   "source": [
    "#### Is it necessary to standardize or normalize data for tree-based machine learning models?"
   ]
  },
  {
   "cell_type": "markdown",
   "id": "c56103ee",
   "metadata": {},
   "source": [
    "> Tree based algorithms such as Decision Tree, is not sensitive to the magnitude of variables. So standardization is not needed before fitting this kind of models. And doesn't require normalization also."
   ]
  },
  {
   "cell_type": "markdown",
   "id": "fce969d3",
   "metadata": {},
   "source": [
    "### Tree diagram of the Decision Tree"
   ]
  },
  {
   "cell_type": "code",
   "execution_count": 515,
   "id": "3eb0ce72",
   "metadata": {},
   "outputs": [
    {
     "data": {
      "image/png": "[encoded data removed]",
      "text/plain": [
       "<Figure size 1080x1080 with 1 Axes>"
      ]
     },
     "metadata": {
      "needs_background": "light"
     },
     "output_type": "display_data"
    }
   ],
   "source": [
    "plt.figure(figsize = (15, 15))\n",
    "plot_tree(model, \n",
    "          filled=True,\n",
    "          rounded=True,\n",
    "          class_names = [\"will not churn\", \"will churn\"],\n",
    "          feature_names = X.columns,\n",
    "          max_depth=2, \n",
    "          fontsize=15)\n",
    "\n",
    "plt.show()"
   ]
  },
  {
   "cell_type": "markdown",
   "id": "d6595759",
   "metadata": {},
   "source": [
    "### Confusion Matrix"
   ]
  },
  {
   "cell_type": "code",
   "execution_count": 516,
   "id": "726d15ab",
   "metadata": {},
   "outputs": [
    {
     "name": "stdout",
     "output_type": "stream",
     "text": [
      "confusion_matrix: \n",
      " [[542  28]\n",
      " [ 34  63]]\n"
     ]
    }
   ],
   "source": [
    "confusion_matrix_ = confusion_matrix(y_test['Churn'], \n",
    "                                     y_test['predicted_Churn'])\n",
    "\n",
    "print('confusion_matrix: \\n', confusion_matrix_)"
   ]
  },
  {
   "cell_type": "code",
   "execution_count": 517,
   "id": "5d2ec486",
   "metadata": {},
   "outputs": [
    {
     "data": {
      "text/plain": [
       "0    570\n",
       "1     97\n",
       "Name: Churn, dtype: int64"
      ]
     },
     "execution_count": 517,
     "metadata": {},
     "output_type": "execute_result"
    }
   ],
   "source": [
    "y_test['Churn'].value_counts()"
   ]
  },
  {
   "cell_type": "code",
   "execution_count": 518,
   "id": "eeea29b4",
   "metadata": {},
   "outputs": [
    {
     "data": {
      "image/png": "[encoded data removed]",
      "text/plain": [
       "<Figure size 432x288 with 2 Axes>"
      ]
     },
     "metadata": {
      "needs_background": "light"
     },
     "output_type": "display_data"
    }
   ],
   "source": [
    "plot_confusion_matrix(model, \n",
    "                      X_test, \n",
    "                      y_test['Churn'], \n",
    "                      display_labels=[\"will not churn\", \"will churn\"],\n",
    "                      cmap='Greens')\n",
    "plt.show()"
   ]
  },
  {
   "cell_type": "code",
   "execution_count": 519,
   "id": "c7f362f8",
   "metadata": {},
   "outputs": [
    {
     "name": "stdout",
     "output_type": "stream",
     "text": [
      "True Negatives =  542\n",
      "False Negatives =  34\n",
      "False Positives =  28\n",
      "True Positives =  63\n"
     ]
    }
   ],
   "source": [
    "TN = confusion_matrix_[0,0]\n",
    "print(\"True Negatives = \", TN)\n",
    "\n",
    "FN = confusion_matrix_[1,0]\n",
    "print(\"False Negatives = \", FN)\n",
    "\n",
    "FP = confusion_matrix_[0,1]\n",
    "print(\"False Positives = \", FP)\n",
    "\n",
    "TP = confusion_matrix_[1,1]\n",
    "print(\"True Positives = \", TP)"
   ]
  },
  {
   "cell_type": "markdown",
   "id": "39b62be6",
   "metadata": {},
   "source": [
    "### Accuracy, Precision, Recall, f1 score"
   ]
  },
  {
   "cell_type": "markdown",
   "id": "d7baa9e9",
   "metadata": {},
   "source": [
    "#### Accuracy"
   ]
  },
  {
   "cell_type": "code",
   "execution_count": 520,
   "id": "5ed0c792",
   "metadata": {},
   "outputs": [
    {
     "name": "stdout",
     "output_type": "stream",
     "text": [
      "Accuracy =  90.7 %\n"
     ]
    }
   ],
   "source": [
    "# calculate the accuracy of the model using the sklearn built-in function\n",
    "accuracy_ = accuracy_score(y_test['Churn'], \n",
    "                           y_test['predicted_Churn'])\n",
    "\n",
    "print('Accuracy = ', np.round(accuracy_*100, 2),\"%\") #Higher Better"
   ]
  },
  {
   "cell_type": "markdown",
   "id": "c0e57a91",
   "metadata": {},
   "source": [
    "#### Precision, Recall, f1 score"
   ]
  },
  {
   "cell_type": "code",
   "execution_count": 521,
   "id": "04f06676",
   "metadata": {},
   "outputs": [
    {
     "name": "stdout",
     "output_type": "stream",
     "text": [
      "Precision =  6.8999999999999995\n",
      "Recall =  6.5\n",
      "f1 score =  6.7\n"
     ]
    }
   ],
   "source": [
    "precision_ = np.round(precision_score(y_test['Churn'], \n",
    "                                      y_test['predicted_Churn']), 2)\n",
    "recall_ = np.round(recall_score(y_test['Churn'], \n",
    "                                y_test['predicted_Churn']), 2)\n",
    "f1_score__ = np.round(f1_score(y_test['Churn'], \n",
    "                               y_test['predicted_Churn']), 2)\n",
    "\n",
    "print(\"Precision = \", precision_*10)\n",
    "print(\"Recall = \", recall_*10)\n",
    "print(\"f1 score = \", f1_score__*10)"
   ]
  },
  {
   "cell_type": "markdown",
   "id": "364a576d",
   "metadata": {},
   "source": [
    "#### True Positive Rate, False Positive Rate"
   ]
  },
  {
   "cell_type": "code",
   "execution_count": 522,
   "id": "3e2a233d",
   "metadata": {},
   "outputs": [
    {
     "name": "stdout",
     "output_type": "stream",
     "text": [
      "True Positive Rate =  0.65\n",
      "False Positive Rate =  0.05\n"
     ]
    }
   ],
   "source": [
    "TPR = np.round(TP/(TP+FN), 2)\n",
    "FPR = np.round(FP/(FP+TN), 2)\n",
    "\n",
    "print(\"True Positive Rate = \", TPR)\n",
    "print(\"False Positive Rate = \", FPR)"
   ]
  },
  {
   "cell_type": "markdown",
   "id": "47e0a6a0",
   "metadata": {},
   "source": [
    "### ROC-AUC"
   ]
  },
  {
   "cell_type": "code",
   "execution_count": 523,
   "id": "37f2e9f6",
   "metadata": {},
   "outputs": [
    {
     "data": {
      "image/png": "[encoded data removed]",
      "text/plain": [
       "<Figure size 720x576 with 1 Axes>"
      ]
     },
     "metadata": {
      "needs_background": "light"
     },
     "output_type": "display_data"
    }
   ],
   "source": [
    "fpr, tpr, thr = roc_curve(y_test['Churn'], \n",
    "                          y_test['probability'])\n",
    "auc = np.round(roc_auc_score(y_test['Churn'], \n",
    "                             y_test['predicted_Churn']), 2)\n",
    "\n",
    "plt.figure(figsize=(10, 8))\n",
    "plt.plot(fpr, \n",
    "         tpr, \n",
    "         color='green', \n",
    "         lw=2, \n",
    "         label=\"Curve Area = \" +str(auc))\n",
    "\n",
    "plt.plot([0, 1], [0, 1], color='blue', lw=2, linestyle='--')\n",
    "plt.xlabel('False Positive Rate (FPR)')\n",
    "plt.ylabel('True Positive Rate (TPR)')\n",
    "plt.title('ROC curve')\n",
    "plt.legend(loc=\"lower right\")\n",
    "plt.show()"
   ]
  },
  {
   "cell_type": "code",
   "execution_count": 524,
   "id": "d02ed95a",
   "metadata": {},
   "outputs": [
    {
     "data": {
      "text/html": [
       "<div>\n",
       "<style scoped>\n",
       "    .dataframe tbody tr th:only-of-type {\n",
       "        vertical-align: middle;\n",
       "    }\n",
       "\n",
       "    .dataframe tbody tr th {\n",
       "        vertical-align: top;\n",
       "    }\n",
       "\n",
       "    .dataframe thead th {\n",
       "        text-align: right;\n",
       "    }\n",
       "</style>\n",
       "<table border=\"1\" class=\"dataframe\">\n",
       "  <thead>\n",
       "    <tr style=\"text-align: right;\">\n",
       "      <th></th>\n",
       "      <th>threshold</th>\n",
       "      <th>FPR</th>\n",
       "      <th>TPR</th>\n",
       "    </tr>\n",
       "  </thead>\n",
       "  <tbody>\n",
       "    <tr>\n",
       "      <th>0</th>\n",
       "      <td>2.0</td>\n",
       "      <td>0.000000</td>\n",
       "      <td>0.000000</td>\n",
       "    </tr>\n",
       "    <tr>\n",
       "      <th>1</th>\n",
       "      <td>1.0</td>\n",
       "      <td>0.049123</td>\n",
       "      <td>0.649485</td>\n",
       "    </tr>\n",
       "    <tr>\n",
       "      <th>2</th>\n",
       "      <td>0.0</td>\n",
       "      <td>1.000000</td>\n",
       "      <td>1.000000</td>\n",
       "    </tr>\n",
       "  </tbody>\n",
       "</table>\n",
       "</div>"
      ],
      "text/plain": [
       "   threshold       FPR       TPR\n",
       "0        2.0  0.000000  0.000000\n",
       "1        1.0  0.049123  0.649485\n",
       "2        0.0  1.000000  1.000000"
      ]
     },
     "metadata": {},
     "output_type": "display_data"
    }
   ],
   "source": [
    "roc_data = pd.DataFrame({\"threshold\": thr, \"FPR\": fpr, \"TPR\": tpr})\n",
    "display(roc_data.tail(10))"
   ]
  },
  {
   "cell_type": "markdown",
   "id": "de98a4dc",
   "metadata": {},
   "source": [
    "### Grid Search and Cross-Validation with Decision Tree Classifier"
   ]
  },
  {
   "cell_type": "code",
   "execution_count": 525,
   "id": "ed8c1095",
   "metadata": {},
   "outputs": [],
   "source": [
    "parameters = {'criterion': ['gini','entropy'],\n",
    "              'max_depth': [3, 4, 5, 6, 7]}\n",
    "\n",
    "model = DecisionTreeClassifier(random_state=42)\n",
    "grid_search = GridSearchCV(estimator=model,\n",
    "                           param_grid=parameters,\n",
    "                           scoring=\"accuracy\",\n",
    "                           cv=5,\n",
    "                           n_jobs=-1)\n",
    "\n",
    "# fit the model with the best hyper-parameters\n",
    "grid_result = grid_search.fit(X_train, y_train)\n"
   ]
  },
  {
   "cell_type": "markdown",
   "id": "ce7cf69b",
   "metadata": {},
   "source": [
    "#### hyperparameters for grid search in each iteration\n",
    "- iteration 1: criterion='gini', max_depth=3\n",
    "- iteration 2: criterion='gini', max_depth=4\n",
    "- iteration 3: criterion='gini', max_depth=5\n",
    "- iteration 4: criterion='gini', max_depth=6\n",
    "- iteration 5: criterion='gini', max_depth=7\n",
    "- iteration 6: criterion='entropy', max_depth=3\n",
    "- iteration 7: criterion='entropy', max_depth=4\n",
    "- iteration 8: criterion='entropy', max_depth=5\n",
    "- iteration 9: criterion='entropy', max_depth=6\n",
    "- iteration 10: criterion='entropy', max_depth=7"
   ]
  },
  {
   "cell_type": "code",
   "execution_count": 526,
   "id": "816e568d",
   "metadata": {},
   "outputs": [],
   "source": [
    "y_pred = np.round(grid_result.predict(X_test), 2)"
   ]
  },
  {
   "cell_type": "markdown",
   "id": "fdf460e6",
   "metadata": {},
   "source": [
    "#### Best hyperparameters in the grid search"
   ]
  },
  {
   "cell_type": "code",
   "execution_count": 527,
   "id": "e278464d",
   "metadata": {},
   "outputs": [
    {
     "data": {
      "text/plain": [
       "{'criterion': 'gini', 'max_depth': 6}"
      ]
     },
     "execution_count": 527,
     "metadata": {},
     "output_type": "execute_result"
    }
   ],
   "source": [
    "grid_result.best_params_"
   ]
  },
  {
   "cell_type": "code",
   "execution_count": 528,
   "id": "780c6503",
   "metadata": {},
   "outputs": [
    {
     "data": {
      "text/html": [
       "<div>\n",
       "<style scoped>\n",
       "    .dataframe tbody tr th:only-of-type {\n",
       "        vertical-align: middle;\n",
       "    }\n",
       "\n",
       "    .dataframe tbody tr th {\n",
       "        vertical-align: top;\n",
       "    }\n",
       "\n",
       "    .dataframe thead th {\n",
       "        text-align: right;\n",
       "    }\n",
       "</style>\n",
       "<table border=\"1\" class=\"dataframe\">\n",
       "  <thead>\n",
       "    <tr style=\"text-align: right;\">\n",
       "      <th></th>\n",
       "      <th>param_criterion</th>\n",
       "      <th>param_max_depth</th>\n",
       "      <th>split0_test_score</th>\n",
       "      <th>split1_test_score</th>\n",
       "      <th>split2_test_score</th>\n",
       "      <th>split3_test_score</th>\n",
       "      <th>split4_test_score</th>\n",
       "      <th>mean_test_score</th>\n",
       "      <th>std_test_score</th>\n",
       "      <th>rank_test_score</th>\n",
       "    </tr>\n",
       "  </thead>\n",
       "  <tbody>\n",
       "    <tr>\n",
       "      <th>3</th>\n",
       "      <td>gini</td>\n",
       "      <td>6</td>\n",
       "      <td>0.943820</td>\n",
       "      <td>0.951220</td>\n",
       "      <td>0.954972</td>\n",
       "      <td>0.949343</td>\n",
       "      <td>0.947467</td>\n",
       "      <td>0.949364</td>\n",
       "      <td>0.003721</td>\n",
       "      <td>1</td>\n",
       "    </tr>\n",
       "    <tr>\n",
       "      <th>9</th>\n",
       "      <td>entropy</td>\n",
       "      <td>7</td>\n",
       "      <td>0.945693</td>\n",
       "      <td>0.941839</td>\n",
       "      <td>0.958724</td>\n",
       "      <td>0.951220</td>\n",
       "      <td>0.943715</td>\n",
       "      <td>0.948238</td>\n",
       "      <td>0.006111</td>\n",
       "      <td>2</td>\n",
       "    </tr>\n",
       "    <tr>\n",
       "      <th>8</th>\n",
       "      <td>entropy</td>\n",
       "      <td>6</td>\n",
       "      <td>0.943820</td>\n",
       "      <td>0.934334</td>\n",
       "      <td>0.958724</td>\n",
       "      <td>0.949343</td>\n",
       "      <td>0.943715</td>\n",
       "      <td>0.945987</td>\n",
       "      <td>0.007989</td>\n",
       "      <td>3</td>\n",
       "    </tr>\n",
       "    <tr>\n",
       "      <th>4</th>\n",
       "      <td>gini</td>\n",
       "      <td>7</td>\n",
       "      <td>0.936330</td>\n",
       "      <td>0.945591</td>\n",
       "      <td>0.958724</td>\n",
       "      <td>0.949343</td>\n",
       "      <td>0.938086</td>\n",
       "      <td>0.945615</td>\n",
       "      <td>0.008107</td>\n",
       "      <td>4</td>\n",
       "    </tr>\n",
       "    <tr>\n",
       "      <th>2</th>\n",
       "      <td>gini</td>\n",
       "      <td>5</td>\n",
       "      <td>0.930712</td>\n",
       "      <td>0.943715</td>\n",
       "      <td>0.947467</td>\n",
       "      <td>0.953096</td>\n",
       "      <td>0.938086</td>\n",
       "      <td>0.942615</td>\n",
       "      <td>0.007705</td>\n",
       "      <td>5</td>\n",
       "    </tr>\n",
       "    <tr>\n",
       "      <th>7</th>\n",
       "      <td>entropy</td>\n",
       "      <td>5</td>\n",
       "      <td>0.934457</td>\n",
       "      <td>0.938086</td>\n",
       "      <td>0.951220</td>\n",
       "      <td>0.945591</td>\n",
       "      <td>0.939962</td>\n",
       "      <td>0.941863</td>\n",
       "      <td>0.005902</td>\n",
       "      <td>6</td>\n",
       "    </tr>\n",
       "    <tr>\n",
       "      <th>1</th>\n",
       "      <td>gini</td>\n",
       "      <td>4</td>\n",
       "      <td>0.923221</td>\n",
       "      <td>0.932458</td>\n",
       "      <td>0.924953</td>\n",
       "      <td>0.930582</td>\n",
       "      <td>0.917448</td>\n",
       "      <td>0.925732</td>\n",
       "      <td>0.005372</td>\n",
       "      <td>7</td>\n",
       "    </tr>\n",
       "    <tr>\n",
       "      <th>6</th>\n",
       "      <td>entropy</td>\n",
       "      <td>4</td>\n",
       "      <td>0.923221</td>\n",
       "      <td>0.926829</td>\n",
       "      <td>0.924953</td>\n",
       "      <td>0.932458</td>\n",
       "      <td>0.917448</td>\n",
       "      <td>0.924982</td>\n",
       "      <td>0.004882</td>\n",
       "      <td>8</td>\n",
       "    </tr>\n",
       "    <tr>\n",
       "      <th>0</th>\n",
       "      <td>gini</td>\n",
       "      <td>3</td>\n",
       "      <td>0.898876</td>\n",
       "      <td>0.919325</td>\n",
       "      <td>0.904315</td>\n",
       "      <td>0.904315</td>\n",
       "      <td>0.904315</td>\n",
       "      <td>0.906229</td>\n",
       "      <td>0.006878</td>\n",
       "      <td>9</td>\n",
       "    </tr>\n",
       "    <tr>\n",
       "      <th>5</th>\n",
       "      <td>entropy</td>\n",
       "      <td>3</td>\n",
       "      <td>0.898876</td>\n",
       "      <td>0.881801</td>\n",
       "      <td>0.904315</td>\n",
       "      <td>0.906191</td>\n",
       "      <td>0.904315</td>\n",
       "      <td>0.899100</td>\n",
       "      <td>0.008989</td>\n",
       "      <td>10</td>\n",
       "    </tr>\n",
       "  </tbody>\n",
       "</table>\n",
       "</div>"
      ],
      "text/plain": [
       "  param_criterion param_max_depth  split0_test_score  split1_test_score  \\\n",
       "3            gini               6           0.943820           0.951220   \n",
       "9         entropy               7           0.945693           0.941839   \n",
       "8         entropy               6           0.943820           0.934334   \n",
       "4            gini               7           0.936330           0.945591   \n",
       "2            gini               5           0.930712           0.943715   \n",
       "7         entropy               5           0.934457           0.938086   \n",
       "1            gini               4           0.923221           0.932458   \n",
       "6         entropy               4           0.923221           0.926829   \n",
       "0            gini               3           0.898876           0.919325   \n",
       "5         entropy               3           0.898876           0.881801   \n",
       "\n",
       "   split2_test_score  split3_test_score  split4_test_score  mean_test_score  \\\n",
       "3           0.954972           0.949343           0.947467         0.949364   \n",
       "9           0.958724           0.951220           0.943715         0.948238   \n",
       "8           0.958724           0.949343           0.943715         0.945987   \n",
       "4           0.958724           0.949343           0.938086         0.945615   \n",
       "2           0.947467           0.953096           0.938086         0.942615   \n",
       "7           0.951220           0.945591           0.939962         0.941863   \n",
       "1           0.924953           0.930582           0.917448         0.925732   \n",
       "6           0.924953           0.932458           0.917448         0.924982   \n",
       "0           0.904315           0.904315           0.904315         0.906229   \n",
       "5           0.904315           0.906191           0.904315         0.899100   \n",
       "\n",
       "   std_test_score  rank_test_score  \n",
       "3        0.003721                1  \n",
       "9        0.006111                2  \n",
       "8        0.007989                3  \n",
       "4        0.008107                4  \n",
       "2        0.007705                5  \n",
       "7        0.005902                6  \n",
       "1        0.005372                7  \n",
       "6        0.004882                8  \n",
       "0        0.006878                9  \n",
       "5        0.008989               10  "
      ]
     },
     "metadata": {},
     "output_type": "display_data"
    },
    {
     "name": "stdout",
     "output_type": "stream",
     "text": [
      "Index(['param_criterion', 'param_max_depth', 'split0_test_score',\n",
      "       'split1_test_score', 'split2_test_score', 'split3_test_score',\n",
      "       'split4_test_score', 'mean_test_score', 'std_test_score',\n",
      "       'rank_test_score'],\n",
      "      dtype='object')\n"
     ]
    }
   ],
   "source": [
    "cv_result = pd.DataFrame(grid_result.cv_results_)\n",
    "cv_result = cv_result[['param_criterion', 'param_max_depth',\n",
    "                       'split0_test_score',\n",
    "                       'split1_test_score', 'split2_test_score', 'split3_test_score',\n",
    "                       'split4_test_score', 'mean_test_score', 'std_test_score',\n",
    "                       'rank_test_score']]\n",
    "cv_result = cv_result.sort_values(by='rank_test_score')\n",
    "display(cv_result)\n",
    "print(cv_result.columns)"
   ]
  },
  {
   "cell_type": "markdown",
   "id": "9f790651",
   "metadata": {},
   "source": [
    "#### Model performance evaluation with the best found model in grid search and cross-validation"
   ]
  },
  {
   "cell_type": "code",
   "execution_count": 529,
   "id": "2c06fb2c",
   "metadata": {},
   "outputs": [
    {
     "data": {
      "image/png": "[encoded data removed]",
      "text/plain": [
       "<Figure size 432x288 with 2 Axes>"
      ]
     },
     "metadata": {
      "needs_background": "light"
     },
     "output_type": "display_data"
    }
   ],
   "source": [
    "plot_confusion_matrix(grid_result, \n",
    "                      X_test, \n",
    "                      y_test['Churn'], \n",
    "                      display_labels=[\"will not churn\", \"will churn\"],\n",
    "                      cmap='Greens')\n",
    "plt.show()"
   ]
  },
  {
   "cell_type": "code",
   "execution_count": 530,
   "id": "acabda15",
   "metadata": {},
   "outputs": [
    {
     "name": "stdout",
     "output_type": "stream",
     "text": [
      "confusion_matrix: \n",
      " [[552  18]\n",
      " [ 33  64]]\n",
      "Accuracy:  0.9235382308845578\n",
      "              precision    recall  f1-score   support\n",
      "\n",
      "           0       0.94      0.97      0.96       570\n",
      "           1       0.78      0.66      0.72        97\n",
      "\n",
      "    accuracy                           0.92       667\n",
      "   macro avg       0.86      0.81      0.84       667\n",
      "weighted avg       0.92      0.92      0.92       667\n",
      "\n"
     ]
    }
   ],
   "source": [
    "confusion_matrix_dt = confusion_matrix(y_test['Churn'], y_pred)\n",
    "print('confusion_matrix: \\n', confusion_matrix_dt)\n",
    "\n",
    "print('Accuracy: ', accuracy_score(y_test['Churn'], y_pred))\n",
    "\n",
    "print(classification_report(y_test['Churn'], y_pred))"
   ]
  },
  {
   "cell_type": "code",
   "execution_count": 531,
   "id": "2526351f",
   "metadata": {},
   "outputs": [
    {
     "data": {
      "image/png": "[encoded data removed]",
      "text/plain": [
       "<Figure size 720x576 with 1 Axes>"
      ]
     },
     "metadata": {
      "needs_background": "light"
     },
     "output_type": "display_data"
    }
   ],
   "source": [
    "fpr, tpr, thr = roc_curve(y_test['Churn'], grid_result.predict_proba(X_test)[:,1])\n",
    "auc = np.round(roc_auc_score(y_test['Churn'], y_pred), 2)\n",
    "\n",
    "plt.figure(figsize=(10, 8))\n",
    "plt.plot(fpr, \n",
    "         tpr, \n",
    "         color='green', \n",
    "         lw=2, \n",
    "         label=\"Curve Area = \" +str(auc))\n",
    "\n",
    "plt.plot([0, 1], [0, 1], color='blue', lw=2, linestyle='--')\n",
    "plt.xlabel('False Positive Rate (FPR)')\n",
    "plt.ylabel('True Positive Rate (TPR)')\n",
    "plt.title('ROC curve')\n",
    "plt.legend(loc=\"lower right\")\n",
    "plt.show()"
   ]
  },
  {
   "cell_type": "code",
   "execution_count": 532,
   "id": "82e47e51",
   "metadata": {},
   "outputs": [
    {
     "data": {
      "text/html": [
       "<div>\n",
       "<style scoped>\n",
       "    .dataframe tbody tr th:only-of-type {\n",
       "        vertical-align: middle;\n",
       "    }\n",
       "\n",
       "    .dataframe tbody tr th {\n",
       "        vertical-align: top;\n",
       "    }\n",
       "\n",
       "    .dataframe thead th {\n",
       "        text-align: right;\n",
       "    }\n",
       "</style>\n",
       "<table border=\"1\" class=\"dataframe\">\n",
       "  <thead>\n",
       "    <tr style=\"text-align: right;\">\n",
       "      <th></th>\n",
       "      <th>Churn</th>\n",
       "      <th>probability</th>\n",
       "      <th>predicted_Churn</th>\n",
       "      <th>pred</th>\n",
       "    </tr>\n",
       "  </thead>\n",
       "  <tbody>\n",
       "    <tr>\n",
       "      <th>601</th>\n",
       "      <td>1</td>\n",
       "      <td>1.000000</td>\n",
       "      <td>1</td>\n",
       "      <td>1</td>\n",
       "    </tr>\n",
       "    <tr>\n",
       "      <th>2050</th>\n",
       "      <td>0</td>\n",
       "      <td>0.023556</td>\n",
       "      <td>0</td>\n",
       "      <td>0</td>\n",
       "    </tr>\n",
       "    <tr>\n",
       "      <th>3200</th>\n",
       "      <td>0</td>\n",
       "      <td>0.022556</td>\n",
       "      <td>0</td>\n",
       "      <td>0</td>\n",
       "    </tr>\n",
       "    <tr>\n",
       "      <th>1953</th>\n",
       "      <td>0</td>\n",
       "      <td>0.023556</td>\n",
       "      <td>0</td>\n",
       "      <td>0</td>\n",
       "    </tr>\n",
       "    <tr>\n",
       "      <th>1119</th>\n",
       "      <td>0</td>\n",
       "      <td>0.023556</td>\n",
       "      <td>0</td>\n",
       "      <td>0</td>\n",
       "    </tr>\n",
       "    <tr>\n",
       "      <th>2204</th>\n",
       "      <td>0</td>\n",
       "      <td>0.023556</td>\n",
       "      <td>0</td>\n",
       "      <td>0</td>\n",
       "    </tr>\n",
       "    <tr>\n",
       "      <th>1888</th>\n",
       "      <td>0</td>\n",
       "      <td>0.023556</td>\n",
       "      <td>0</td>\n",
       "      <td>0</td>\n",
       "    </tr>\n",
       "    <tr>\n",
       "      <th>738</th>\n",
       "      <td>0</td>\n",
       "      <td>0.023556</td>\n",
       "      <td>0</td>\n",
       "      <td>0</td>\n",
       "    </tr>\n",
       "    <tr>\n",
       "      <th>3087</th>\n",
       "      <td>0</td>\n",
       "      <td>0.023556</td>\n",
       "      <td>0</td>\n",
       "      <td>0</td>\n",
       "    </tr>\n",
       "    <tr>\n",
       "      <th>539</th>\n",
       "      <td>0</td>\n",
       "      <td>0.023556</td>\n",
       "      <td>0</td>\n",
       "      <td>0</td>\n",
       "    </tr>\n",
       "    <tr>\n",
       "      <th>585</th>\n",
       "      <td>0</td>\n",
       "      <td>0.023556</td>\n",
       "      <td>0</td>\n",
       "      <td>0</td>\n",
       "    </tr>\n",
       "    <tr>\n",
       "      <th>1563</th>\n",
       "      <td>0</td>\n",
       "      <td>0.023556</td>\n",
       "      <td>0</td>\n",
       "      <td>0</td>\n",
       "    </tr>\n",
       "    <tr>\n",
       "      <th>1319</th>\n",
       "      <td>0</td>\n",
       "      <td>0.065217</td>\n",
       "      <td>0</td>\n",
       "      <td>0</td>\n",
       "    </tr>\n",
       "    <tr>\n",
       "      <th>1388</th>\n",
       "      <td>0</td>\n",
       "      <td>0.400000</td>\n",
       "      <td>0</td>\n",
       "      <td>0</td>\n",
       "    </tr>\n",
       "    <tr>\n",
       "      <th>740</th>\n",
       "      <td>0</td>\n",
       "      <td>1.000000</td>\n",
       "      <td>1</td>\n",
       "      <td>1</td>\n",
       "    </tr>\n",
       "    <tr>\n",
       "      <th>3005</th>\n",
       "      <td>0</td>\n",
       "      <td>0.023556</td>\n",
       "      <td>0</td>\n",
       "      <td>0</td>\n",
       "    </tr>\n",
       "    <tr>\n",
       "      <th>836</th>\n",
       "      <td>0</td>\n",
       "      <td>0.023556</td>\n",
       "      <td>0</td>\n",
       "      <td>0</td>\n",
       "    </tr>\n",
       "    <tr>\n",
       "      <th>1840</th>\n",
       "      <td>0</td>\n",
       "      <td>0.065217</td>\n",
       "      <td>0</td>\n",
       "      <td>0</td>\n",
       "    </tr>\n",
       "    <tr>\n",
       "      <th>3306</th>\n",
       "      <td>0</td>\n",
       "      <td>0.023556</td>\n",
       "      <td>0</td>\n",
       "      <td>0</td>\n",
       "    </tr>\n",
       "    <tr>\n",
       "      <th>758</th>\n",
       "      <td>0</td>\n",
       "      <td>0.000000</td>\n",
       "      <td>0</td>\n",
       "      <td>0</td>\n",
       "    </tr>\n",
       "  </tbody>\n",
       "</table>\n",
       "</div>"
      ],
      "text/plain": [
       "      Churn  probability  predicted_Churn  pred\n",
       "601       1     1.000000                1     1\n",
       "2050      0     0.023556                0     0\n",
       "3200      0     0.022556                0     0\n",
       "1953      0     0.023556                0     0\n",
       "1119      0     0.023556                0     0\n",
       "2204      0     0.023556                0     0\n",
       "1888      0     0.023556                0     0\n",
       "738       0     0.023556                0     0\n",
       "3087      0     0.023556                0     0\n",
       "539       0     0.023556                0     0\n",
       "585       0     0.023556                0     0\n",
       "1563      0     0.023556                0     0\n",
       "1319      0     0.065217                0     0\n",
       "1388      0     0.400000                0     0\n",
       "740       0     1.000000                1     1\n",
       "3005      0     0.023556                0     0\n",
       "836       0     0.023556                0     0\n",
       "1840      0     0.065217                0     0\n",
       "3306      0     0.023556                0     0\n",
       "758       0     0.000000                0     0"
      ]
     },
     "metadata": {},
     "output_type": "display_data"
    }
   ],
   "source": [
    "y_test['pred'] = y_pred\n",
    "y_test['probability'] = grid_result.predict_proba(X_test)[:,1]\n",
    "\n",
    "display(y_test.head(20))"
   ]
  },
  {
   "cell_type": "markdown",
   "id": "ace410a2",
   "metadata": {},
   "source": [
    "### Classification report"
   ]
  },
  {
   "cell_type": "code",
   "execution_count": 533,
   "id": "67ca7ac9",
   "metadata": {},
   "outputs": [
    {
     "name": "stdout",
     "output_type": "stream",
     "text": [
      "Classification Report: \n",
      "               precision    recall  f1-score   support\n",
      "\n",
      "           0       0.94      0.95      0.95       570\n",
      "           1       0.69      0.65      0.67        97\n",
      "\n",
      "    accuracy                           0.91       667\n",
      "   macro avg       0.82      0.80      0.81       667\n",
      "weighted avg       0.90      0.91      0.91       667\n",
      "\n"
     ]
    }
   ],
   "source": [
    "class_report = classification_report(y_test['Churn'], \n",
    "                                     y_test['predicted_Churn'])\n",
    "print(\"Classification Report: \\n\", class_report)"
   ]
  },
  {
   "cell_type": "markdown",
   "id": "908b448d",
   "metadata": {},
   "source": [
    "## Outcome "
   ]
  },
  {
   "cell_type": "markdown",
   "id": "6599cf3a",
   "metadata": {},
   "source": [
    "**Model Result:**\n",
    "> **Model is saying 90.85% customers will churn.**\n",
    "\n",
    "**About The Model:**\n",
    "> *We are getting the Precision value from the model is 7.0 out of 10. What should be more near to 10. The Accuracy of the model is 90.85%. The accuracy rate is good enough but the precision value should be greater than 8 then we can say this model is pretty good, but the model is accurately resulting but the precision is not satisfactory.* "
   ]
  }
 ],
 "metadata": {
  "kernelspec": {
   "display_name": "Python 3",
   "language": "python",
   "name": "python3"
  },
  "language_info": {
   "codemirror_mode": {
    "name": "ipython",
    "version": 3
   },
   "file_extension": ".py",
   "mimetype": "text/x-python",
   "name": "python",
   "nbconvert_exporter": "python",
   "pygments_lexer": "ipython3",
   "version": "3.8.8"
  }
 },
 "nbformat": 4,
 "nbformat_minor": 5
}
